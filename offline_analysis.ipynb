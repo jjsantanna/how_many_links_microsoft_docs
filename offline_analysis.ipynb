{
 "cells": [
  {
   "cell_type": "markdown",
   "metadata": {},
   "source": [
    "<h1 align='center'>=======================================================<br>Offline analysis of the links</h1>"
   ]
  },
  {
   "cell_type": "markdown",
   "metadata": {},
   "source": [
    "## Importing and setting libraries"
   ]
  },
  {
   "cell_type": "code",
   "execution_count": 1,
   "metadata": {},
   "outputs": [],
   "source": [
    "import pandas as pd\n",
    "import numpy as np\n",
    "import matplotlib.pyplot as plt # http://matplotlib.org/gallery.html \n",
    "plt.style.use('ggplot') # https://matplotlib.org/3.1.1/gallery/style_sheets/style_sheets_reference.html\n",
    "%matplotlib inline "
   ]
  },
  {
   "cell_type": "markdown",
   "metadata": {},
   "source": [
    "## Loading the data"
   ]
  },
  {
   "cell_type": "code",
   "execution_count": 2,
   "metadata": {},
   "outputs": [],
   "source": [
    "df = pd.read_csv('20210510_how_many_links_microsoft_docs.csv', index_col=0)"
   ]
  },
  {
   "cell_type": "markdown",
   "metadata": {},
   "source": [
    "## How many entries were retrieved?"
   ]
  },
  {
   "cell_type": "code",
   "execution_count": 3,
   "metadata": {},
   "outputs": [
    {
     "data": {
      "text/plain": [
       "104796"
      ]
     },
     "execution_count": 3,
     "metadata": {},
     "output_type": "execute_result"
    }
   ],
   "source": [
    "len(df)"
   ]
  },
  {
   "cell_type": "markdown",
   "metadata": {},
   "source": [
    "## How the entries looks like?"
   ]
  },
  {
   "cell_type": "code",
   "execution_count": 4,
   "metadata": {},
   "outputs": [
    {
     "data": {
      "text/html": [
       "<div>\n",
       "<style scoped>\n",
       "    .dataframe tbody tr th:only-of-type {\n",
       "        vertical-align: middle;\n",
       "    }\n",
       "\n",
       "    .dataframe tbody tr th {\n",
       "        vertical-align: top;\n",
       "    }\n",
       "\n",
       "    .dataframe thead th {\n",
       "        text-align: right;\n",
       "    }\n",
       "</style>\n",
       "<table border=\"1\" class=\"dataframe\">\n",
       "  <thead>\n",
       "    <tr style=\"text-align: right;\">\n",
       "      <th></th>\n",
       "      <th>url</th>\n",
       "    </tr>\n",
       "  </thead>\n",
       "  <tbody>\n",
       "    <tr>\n",
       "      <th>0</th>\n",
       "      <td>https://docs.microsoft.com/en-us/</td>\n",
       "    </tr>\n",
       "    <tr>\n",
       "      <th>1</th>\n",
       "      <td>https://docs.microsoft.com/en-us/documentation</td>\n",
       "    </tr>\n",
       "    <tr>\n",
       "      <th>2</th>\n",
       "      <td>https://docs.microsoft.com/en-us/learn</td>\n",
       "    </tr>\n",
       "    <tr>\n",
       "      <th>3</th>\n",
       "      <td>https://docs.microsoft.com/en-us/answers/</td>\n",
       "    </tr>\n",
       "    <tr>\n",
       "      <th>4</th>\n",
       "      <td>https://docs.microsoft.com/en-us/samples/browse/</td>\n",
       "    </tr>\n",
       "  </tbody>\n",
       "</table>\n",
       "</div>"
      ],
      "text/plain": [
       "                                                url\n",
       "0                 https://docs.microsoft.com/en-us/\n",
       "1    https://docs.microsoft.com/en-us/documentation\n",
       "2            https://docs.microsoft.com/en-us/learn\n",
       "3         https://docs.microsoft.com/en-us/answers/\n",
       "4  https://docs.microsoft.com/en-us/samples/browse/"
      ]
     },
     "execution_count": 4,
     "metadata": {},
     "output_type": "execute_result"
    }
   ],
   "source": [
    "df.head()"
   ]
  },
  {
   "cell_type": "markdown",
   "metadata": {},
   "source": [
    "## Making sure all the entries end with '/'"
   ]
  },
  {
   "cell_type": "code",
   "execution_count": 5,
   "metadata": {},
   "outputs": [],
   "source": [
    "df['url'] = df['url'].apply(lambda x: x+'/'if x.strip()[-1] != '/' else x)"
   ]
  },
  {
   "cell_type": "markdown",
   "metadata": {},
   "source": [
    "## Extending the data by dividing URLs into layers (i.e. what comes after https://docs.microsoft.com/en-us/)"
   ]
  },
  {
   "cell_type": "code",
   "execution_count": 6,
   "metadata": {},
   "outputs": [],
   "source": [
    "# Sometimes it ends with '/' sometimes not!\n",
    "df['level2'] = df['url'].apply(lambda x: x.split('/')[4] if len(x.split('/'))>5 else 'N.A.')\n",
    "df['level3'] = df['url'].apply(lambda x: x.split('/')[5] if len(x.split('/'))>6 else 'N.A.')\n",
    "df['level4'] = df['url'].apply(lambda x: x.split('/')[6] if len(x.split('/'))>7 else 'N.A.')\n",
    "df['level5'] = df['url'].apply(lambda x: x.split('/')[7] if len(x.split('/'))>8 else 'N.A.')"
   ]
  },
  {
   "cell_type": "code",
   "execution_count": 7,
   "metadata": {},
   "outputs": [
    {
     "data": {
      "text/html": [
       "<div>\n",
       "<style scoped>\n",
       "    .dataframe tbody tr th:only-of-type {\n",
       "        vertical-align: middle;\n",
       "    }\n",
       "\n",
       "    .dataframe tbody tr th {\n",
       "        vertical-align: top;\n",
       "    }\n",
       "\n",
       "    .dataframe thead th {\n",
       "        text-align: right;\n",
       "    }\n",
       "</style>\n",
       "<table border=\"1\" class=\"dataframe\">\n",
       "  <thead>\n",
       "    <tr style=\"text-align: right;\">\n",
       "      <th></th>\n",
       "      <th>url</th>\n",
       "      <th>level2</th>\n",
       "      <th>level3</th>\n",
       "      <th>level4</th>\n",
       "      <th>level5</th>\n",
       "    </tr>\n",
       "  </thead>\n",
       "  <tbody>\n",
       "    <tr>\n",
       "      <th>0</th>\n",
       "      <td>https://docs.microsoft.com/en-us/</td>\n",
       "      <td>N.A.</td>\n",
       "      <td>N.A.</td>\n",
       "      <td>N.A.</td>\n",
       "      <td>N.A.</td>\n",
       "    </tr>\n",
       "    <tr>\n",
       "      <th>1</th>\n",
       "      <td>https://docs.microsoft.com/en-us/documentation/</td>\n",
       "      <td>documentation</td>\n",
       "      <td>N.A.</td>\n",
       "      <td>N.A.</td>\n",
       "      <td>N.A.</td>\n",
       "    </tr>\n",
       "    <tr>\n",
       "      <th>2</th>\n",
       "      <td>https://docs.microsoft.com/en-us/learn/</td>\n",
       "      <td>learn</td>\n",
       "      <td>N.A.</td>\n",
       "      <td>N.A.</td>\n",
       "      <td>N.A.</td>\n",
       "    </tr>\n",
       "    <tr>\n",
       "      <th>3</th>\n",
       "      <td>https://docs.microsoft.com/en-us/answers/</td>\n",
       "      <td>answers</td>\n",
       "      <td>N.A.</td>\n",
       "      <td>N.A.</td>\n",
       "      <td>N.A.</td>\n",
       "    </tr>\n",
       "    <tr>\n",
       "      <th>4</th>\n",
       "      <td>https://docs.microsoft.com/en-us/samples/browse/</td>\n",
       "      <td>samples</td>\n",
       "      <td>browse</td>\n",
       "      <td>N.A.</td>\n",
       "      <td>N.A.</td>\n",
       "    </tr>\n",
       "  </tbody>\n",
       "</table>\n",
       "</div>"
      ],
      "text/plain": [
       "                                                url         level2  level3  \\\n",
       "0                 https://docs.microsoft.com/en-us/           N.A.    N.A.   \n",
       "1   https://docs.microsoft.com/en-us/documentation/  documentation    N.A.   \n",
       "2           https://docs.microsoft.com/en-us/learn/          learn    N.A.   \n",
       "3         https://docs.microsoft.com/en-us/answers/        answers    N.A.   \n",
       "4  https://docs.microsoft.com/en-us/samples/browse/        samples  browse   \n",
       "\n",
       "  level4 level5  \n",
       "0   N.A.   N.A.  \n",
       "1   N.A.   N.A.  \n",
       "2   N.A.   N.A.  \n",
       "3   N.A.   N.A.  \n",
       "4   N.A.   N.A.  "
      ]
     },
     "execution_count": 7,
     "metadata": {},
     "output_type": "execute_result"
    }
   ],
   "source": [
    "df.head()"
   ]
  },
  {
   "cell_type": "markdown",
   "metadata": {},
   "source": [
    "## Analysing and visualizing the Level2"
   ]
  },
  {
   "cell_type": "code",
   "execution_count": 8,
   "metadata": {},
   "outputs": [
    {
     "data": {
      "text/plain": [
       "windows                                45157\n",
       "dotnet                                 11252\n",
       "windows-hardware                        6996\n",
       "javascript                              6788\n",
       "azure                                   6385\n",
       "                                       ...  \n",
       "it-server                                  1\n",
       "providers                                  1\n",
       ".Invoke-ServiceFabricEncryptText.md        1\n",
       "dvertising                                 1\n",
       "mesh                                       1\n",
       "Name: level2, Length: 249, dtype: int64"
      ]
     },
     "execution_count": 8,
     "metadata": {},
     "output_type": "execute_result"
    }
   ],
   "source": [
    "level2_stats = df['level2'].value_counts()\n",
    "level2_stats"
   ]
  },
  {
   "cell_type": "code",
   "execution_count": 9,
   "metadata": {},
   "outputs": [
    {
     "data": {
      "text/plain": [
       "(-1.1028139987650734,\n",
       " 1.1224231615995939,\n",
       " -1.10030393422514,\n",
       " 1.1062584058218454)"
      ]
     },
     "execution_count": 9,
     "metadata": {},
     "output_type": "execute_result"
    },
    {
     "data": {
      "image/png": "[encoded data removed]",
      "text/plain": [
       "<Figure size 432x288 with 1 Axes>"
      ]
     },
     "metadata": {},
     "output_type": "display_data"
    }
   ],
   "source": [
    "dictionary = level2_stats.to_dict()\n",
    "threshold = 300\n",
    "\n",
    "def autopct_format(values):\n",
    "    def my_format(pct):\n",
    "        total = sum(values)\n",
    "        val = int(round(pct*total/100.0))\n",
    "        return '{v:d}'.format(v=val)\n",
    "    return my_format\n",
    "\n",
    "import itertools\n",
    "newdic={}\n",
    "for key, group in itertools.groupby(dictionary, lambda k: 'All the rest' if (dictionary[k]<threshold) else k):\n",
    "    newdic[key] = sum([dictionary[k] for k in list(group)]) \n",
    "    \n",
    "labels = newdic.keys()\n",
    "sizes = newdic.values()\n",
    "\n",
    "fig, ax = plt.subplots()\n",
    "\n",
    "ax.pie(sizes, labels=labels, \n",
    "#      autopct='%1.1f%%', \n",
    "       autopct=autopct_format(sizes),\n",
    "       startangle=290)\n",
    "ax.axis('equal')\n",
    "\n",
    "# fig.savefig('name.eps', bbox_inches='tight',format='eps', dpi=1200)\n",
    "# fig.savefig('name.png', bbox_inches='tight',format='png', dpi=1200, transparent=True)\n",
    "# fig.show()"
   ]
  },
  {
   "cell_type": "markdown",
   "metadata": {},
   "source": [
    "## Analysing and visualizing the Level3 (considering level 2 'Azure')"
   ]
  },
  {
   "cell_type": "code",
   "execution_count": 10,
   "metadata": {},
   "outputs": [
    {
     "data": {
      "text/plain": [
       "devops                                                 1038\n",
       "active-directory                                        638\n",
       "architecture                                            268\n",
       "virtual-machines                                        234\n",
       "cognitive-services                                      219\n",
       "                                                       ... \n",
       "azure-supportability                                      1\n",
       "dedicated-hsm                                             1\n",
       "static-web-apps                                           1\n",
       "azure-subscription-service-limits#networking-limits       1\n",
       "remote-rendering                                          1\n",
       "Name: level3, Length: 204, dtype: int64"
      ]
     },
     "execution_count": 10,
     "metadata": {},
     "output_type": "execute_result"
    }
   ],
   "source": [
    "level3_azure_stats = df[df['level2'].str.contains('azure')]['level3'].value_counts()\n",
    "level3_azure_stats"
   ]
  },
  {
   "cell_type": "code",
   "execution_count": 11,
   "metadata": {},
   "outputs": [
    {
     "data": {
      "text/plain": [
       "(-1.100159780455464, 1.1031426523595336, -1.1078182170958155, 1.10102925521552)"
      ]
     },
     "execution_count": 11,
     "metadata": {},
     "output_type": "execute_result"
    },
    {
     "data": {
      "image/png": "[encoded data removed]",
      "text/plain": [
       "<Figure size 432x288 with 1 Axes>"
      ]
     },
     "metadata": {},
     "output_type": "display_data"
    }
   ],
   "source": [
    "# fig = plt.figure(figsize=(5, 15))\n",
    "# ax = plt.subplot2grid((1,1), (0,0))\n",
    "# ax.set_title('Title')\n",
    "# ax.set_ylim(min,max)\n",
    "# ax.set_xlim(min,max)\n",
    "\n",
    "def autopct_format(values):\n",
    "    def my_format(pct):\n",
    "        total = sum(values)\n",
    "        val = int(round(pct*total/100.0))\n",
    "        return '{v:d}'.format(v=val)\n",
    "    return my_format\n",
    "\n",
    "dictionary = level3_azure_stats.to_dict()\n",
    "threshold = 50\n",
    "\n",
    "import itertools\n",
    "newdic={}\n",
    "for key, group in itertools.groupby(dictionary, lambda k: 'All the rest' if (dictionary[k]<threshold) else k):\n",
    "    newdic[key] = sum([dictionary[k] for k in list(group)]) \n",
    "    \n",
    "labels = newdic.keys()\n",
    "sizes = newdic.values()\n",
    "\n",
    "fig, ax = plt.subplots()\n",
    "\n",
    "ax.pie(sizes, labels=labels, autopct=autopct_format(sizes), startangle=-30)\n",
    "ax.axis('equal')\n",
    "# ax.set_title('Azure topics (aggregating >50 entries)')\n",
    "\n",
    "# fig.savefig('name.eps', bbox_inches='tight',format='eps', dpi=1200)\n",
    "# fig.savefig('name.png', bbox_inches='tight',format='png', dpi=1200, transparent=True)\n",
    "# fig.show()"
   ]
  },
  {
   "cell_type": "markdown",
   "metadata": {},
   "source": [
    "## (In general) How many documents are related to \"Microsot Defender for Endpoint\" or \"MDATP\"?"
   ]
  },
  {
   "cell_type": "code",
   "execution_count": 12,
   "metadata": {},
   "outputs": [
    {
     "name": "stdout",
     "output_type": "stream",
     "text": [
      "95\n"
     ]
    },
    {
     "data": {
      "text/html": [
       "<div>\n",
       "<style scoped>\n",
       "    .dataframe tbody tr th:only-of-type {\n",
       "        vertical-align: middle;\n",
       "    }\n",
       "\n",
       "    .dataframe tbody tr th {\n",
       "        vertical-align: top;\n",
       "    }\n",
       "\n",
       "    .dataframe thead th {\n",
       "        text-align: right;\n",
       "    }\n",
       "</style>\n",
       "<table border=\"1\" class=\"dataframe\">\n",
       "  <thead>\n",
       "    <tr style=\"text-align: right;\">\n",
       "      <th></th>\n",
       "      <th>url</th>\n",
       "      <th>level2</th>\n",
       "      <th>level3</th>\n",
       "      <th>level4</th>\n",
       "      <th>level5</th>\n",
       "    </tr>\n",
       "  </thead>\n",
       "  <tbody>\n",
       "    <tr>\n",
       "      <th>8356</th>\n",
       "      <td>https://docs.microsoft.com/en-us/microsoft-365...</td>\n",
       "      <td>microsoft-365</td>\n",
       "      <td>security</td>\n",
       "      <td>defender-endpoint</td>\n",
       "      <td>detect-block-potentially-unwanted-apps-microso...</td>\n",
       "    </tr>\n",
       "    <tr>\n",
       "      <th>8417</th>\n",
       "      <td>https://docs.microsoft.com/en-us/microsoft-365...</td>\n",
       "      <td>microsoft-365</td>\n",
       "      <td>security</td>\n",
       "      <td>defender-endpoint</td>\n",
       "      <td>N.A.</td>\n",
       "    </tr>\n",
       "    <tr>\n",
       "      <th>9450</th>\n",
       "      <td>https://docs.microsoft.com/en-us/microsoft-365...</td>\n",
       "      <td>microsoft-365</td>\n",
       "      <td>security</td>\n",
       "      <td>defender-endpoint</td>\n",
       "      <td>microsoft-defender-advanced-threat-protection</td>\n",
       "    </tr>\n",
       "    <tr>\n",
       "      <th>9451</th>\n",
       "      <td>https://docs.microsoft.com/en-us/microsoft-365...</td>\n",
       "      <td>microsoft-365</td>\n",
       "      <td>security</td>\n",
       "      <td>defender-endpoint</td>\n",
       "      <td>assign-portal-access</td>\n",
       "    </tr>\n",
       "    <tr>\n",
       "      <th>9928</th>\n",
       "      <td>https://docs.microsoft.com/en-us/microsoft-365...</td>\n",
       "      <td>microsoft-365</td>\n",
       "      <td>security</td>\n",
       "      <td>defender-endpoint</td>\n",
       "      <td>microsoft-defender-endpoint</td>\n",
       "    </tr>\n",
       "    <tr>\n",
       "      <th>...</th>\n",
       "      <td>...</td>\n",
       "      <td>...</td>\n",
       "      <td>...</td>\n",
       "      <td>...</td>\n",
       "      <td>...</td>\n",
       "    </tr>\n",
       "    <tr>\n",
       "      <th>85177</th>\n",
       "      <td>https://docs.microsoft.com/en-us/microsoft-365...</td>\n",
       "      <td>microsoft-365</td>\n",
       "      <td>security</td>\n",
       "      <td>defender-endpoint</td>\n",
       "      <td>tvm-microsoft-secure-score-devices</td>\n",
       "    </tr>\n",
       "    <tr>\n",
       "      <th>85178</th>\n",
       "      <td>https://docs.microsoft.com/en-us/microsoft-365...</td>\n",
       "      <td>microsoft-365</td>\n",
       "      <td>security</td>\n",
       "      <td>defender-endpoint</td>\n",
       "      <td>evaluate-mde</td>\n",
       "    </tr>\n",
       "    <tr>\n",
       "      <th>85179</th>\n",
       "      <td>https://docs.microsoft.com/en-us/microsoft-365...</td>\n",
       "      <td>microsoft-365</td>\n",
       "      <td>security</td>\n",
       "      <td>defender-endpoint</td>\n",
       "      <td>respond-file-alerts#stop-and-quarantine-files-...</td>\n",
       "    </tr>\n",
       "    <tr>\n",
       "      <th>85181</th>\n",
       "      <td>https://docs.microsoft.com/en-us/microsoft-365...</td>\n",
       "      <td>microsoft-365</td>\n",
       "      <td>security</td>\n",
       "      <td>defender-endpoint</td>\n",
       "      <td>troubleshoot-mde</td>\n",
       "    </tr>\n",
       "    <tr>\n",
       "      <th>96515</th>\n",
       "      <td>https://docs.microsoft.com/en-us/microsoft-365...</td>\n",
       "      <td>microsoft-365</td>\n",
       "      <td>security</td>\n",
       "      <td>defender-endpoint</td>\n",
       "      <td>microsoft-defender-endpoint-mac</td>\n",
       "    </tr>\n",
       "  </tbody>\n",
       "</table>\n",
       "<p>95 rows × 5 columns</p>\n",
       "</div>"
      ],
      "text/plain": [
       "                                                     url         level2  \\\n",
       "8356   https://docs.microsoft.com/en-us/microsoft-365...  microsoft-365   \n",
       "8417   https://docs.microsoft.com/en-us/microsoft-365...  microsoft-365   \n",
       "9450   https://docs.microsoft.com/en-us/microsoft-365...  microsoft-365   \n",
       "9451   https://docs.microsoft.com/en-us/microsoft-365...  microsoft-365   \n",
       "9928   https://docs.microsoft.com/en-us/microsoft-365...  microsoft-365   \n",
       "...                                                  ...            ...   \n",
       "85177  https://docs.microsoft.com/en-us/microsoft-365...  microsoft-365   \n",
       "85178  https://docs.microsoft.com/en-us/microsoft-365...  microsoft-365   \n",
       "85179  https://docs.microsoft.com/en-us/microsoft-365...  microsoft-365   \n",
       "85181  https://docs.microsoft.com/en-us/microsoft-365...  microsoft-365   \n",
       "96515  https://docs.microsoft.com/en-us/microsoft-365...  microsoft-365   \n",
       "\n",
       "         level3             level4  \\\n",
       "8356   security  defender-endpoint   \n",
       "8417   security  defender-endpoint   \n",
       "9450   security  defender-endpoint   \n",
       "9451   security  defender-endpoint   \n",
       "9928   security  defender-endpoint   \n",
       "...         ...                ...   \n",
       "85177  security  defender-endpoint   \n",
       "85178  security  defender-endpoint   \n",
       "85179  security  defender-endpoint   \n",
       "85181  security  defender-endpoint   \n",
       "96515  security  defender-endpoint   \n",
       "\n",
       "                                                  level5  \n",
       "8356   detect-block-potentially-unwanted-apps-microso...  \n",
       "8417                                                N.A.  \n",
       "9450       microsoft-defender-advanced-threat-protection  \n",
       "9451                                assign-portal-access  \n",
       "9928                         microsoft-defender-endpoint  \n",
       "...                                                  ...  \n",
       "85177                 tvm-microsoft-secure-score-devices  \n",
       "85178                                       evaluate-mde  \n",
       "85179  respond-file-alerts#stop-and-quarantine-files-...  \n",
       "85181                                   troubleshoot-mde  \n",
       "96515                    microsoft-defender-endpoint-mac  \n",
       "\n",
       "[95 rows x 5 columns]"
      ]
     },
     "execution_count": 12,
     "metadata": {},
     "output_type": "execute_result"
    }
   ],
   "source": [
    "stats_mde = df[df['url'].str.contains('defender-endpoint')]\n",
    "print(len(stats_mde))\n",
    "stats_mde"
   ]
  },
  {
   "cell_type": "code",
   "execution_count": 13,
   "metadata": {
    "scrolled": false
   },
   "outputs": [
    {
     "name": "stdout",
     "output_type": "stream",
     "text": [
      "270\n"
     ]
    },
    {
     "data": {
      "text/html": [
       "<div>\n",
       "<style scoped>\n",
       "    .dataframe tbody tr th:only-of-type {\n",
       "        vertical-align: middle;\n",
       "    }\n",
       "\n",
       "    .dataframe tbody tr th {\n",
       "        vertical-align: top;\n",
       "    }\n",
       "\n",
       "    .dataframe thead th {\n",
       "        text-align: right;\n",
       "    }\n",
       "</style>\n",
       "<table border=\"1\" class=\"dataframe\">\n",
       "  <thead>\n",
       "    <tr style=\"text-align: right;\">\n",
       "      <th></th>\n",
       "      <th>url</th>\n",
       "      <th>level2</th>\n",
       "      <th>level3</th>\n",
       "      <th>level4</th>\n",
       "      <th>level5</th>\n",
       "    </tr>\n",
       "  </thead>\n",
       "  <tbody>\n",
       "    <tr>\n",
       "      <th>1738</th>\n",
       "      <td>https://docs.microsoft.com/en-us/windows/secur...</td>\n",
       "      <td>windows</td>\n",
       "      <td>security</td>\n",
       "      <td>threat-protection</td>\n",
       "      <td>windows-defender-application-control</td>\n",
       "    </tr>\n",
       "    <tr>\n",
       "      <th>1759</th>\n",
       "      <td>https://docs.microsoft.com/en-us/windows/secur...</td>\n",
       "      <td>windows</td>\n",
       "      <td>security</td>\n",
       "      <td>threat-protection</td>\n",
       "      <td>windows-defender-application-control</td>\n",
       "    </tr>\n",
       "    <tr>\n",
       "      <th>1823</th>\n",
       "      <td>https://docs.microsoft.com/en-us/windows/secur...</td>\n",
       "      <td>windows</td>\n",
       "      <td>security</td>\n",
       "      <td>threat-protection</td>\n",
       "      <td>intelligence</td>\n",
       "    </tr>\n",
       "    <tr>\n",
       "      <th>1846</th>\n",
       "      <td>https://docs.microsoft.com/en-us/windows/secur...</td>\n",
       "      <td>windows</td>\n",
       "      <td>security</td>\n",
       "      <td>threat-protection</td>\n",
       "      <td>intelligence</td>\n",
       "    </tr>\n",
       "    <tr>\n",
       "      <th>1847</th>\n",
       "      <td>https://docs.microsoft.com/en-us/windows/secur...</td>\n",
       "      <td>windows</td>\n",
       "      <td>security</td>\n",
       "      <td>threat-protection</td>\n",
       "      <td>windows-defender-antivirus</td>\n",
       "    </tr>\n",
       "    <tr>\n",
       "      <th>...</th>\n",
       "      <td>...</td>\n",
       "      <td>...</td>\n",
       "      <td>...</td>\n",
       "      <td>...</td>\n",
       "      <td>...</td>\n",
       "    </tr>\n",
       "    <tr>\n",
       "      <th>84947</th>\n",
       "      <td>https://docs.microsoft.com/en-us/windows/secur...</td>\n",
       "      <td>windows</td>\n",
       "      <td>security</td>\n",
       "      <td>threat-protection</td>\n",
       "      <td>microsoft-defender-antivirus</td>\n",
       "    </tr>\n",
       "    <tr>\n",
       "      <th>85154</th>\n",
       "      <td>https://docs.microsoft.com/en-us/windows/secur...</td>\n",
       "      <td>windows</td>\n",
       "      <td>security</td>\n",
       "      <td>threat-protection</td>\n",
       "      <td>security-compliance-toolkit-10#what-is-the-loc...</td>\n",
       "    </tr>\n",
       "    <tr>\n",
       "      <th>96622</th>\n",
       "      <td>https://docs.microsoft.com/en-us/windows/secur...</td>\n",
       "      <td>windows</td>\n",
       "      <td>security</td>\n",
       "      <td>threat-protection</td>\n",
       "      <td>windows-firewall</td>\n",
       "    </tr>\n",
       "    <tr>\n",
       "      <th>96623</th>\n",
       "      <td>https://docs.microsoft.com/en-us/windows/secur...</td>\n",
       "      <td>windows</td>\n",
       "      <td>security</td>\n",
       "      <td>threat-protection</td>\n",
       "      <td>microsoft-defender-antivirus</td>\n",
       "    </tr>\n",
       "    <tr>\n",
       "      <th>97431</th>\n",
       "      <td>https://docs.microsoft.com/en-us/windows/secur...</td>\n",
       "      <td>windows</td>\n",
       "      <td>security</td>\n",
       "      <td>threat-protection</td>\n",
       "      <td>microsoft-defender-atp</td>\n",
       "    </tr>\n",
       "  </tbody>\n",
       "</table>\n",
       "<p>270 rows × 5 columns</p>\n",
       "</div>"
      ],
      "text/plain": [
       "                                                     url   level2    level3  \\\n",
       "1738   https://docs.microsoft.com/en-us/windows/secur...  windows  security   \n",
       "1759   https://docs.microsoft.com/en-us/windows/secur...  windows  security   \n",
       "1823   https://docs.microsoft.com/en-us/windows/secur...  windows  security   \n",
       "1846   https://docs.microsoft.com/en-us/windows/secur...  windows  security   \n",
       "1847   https://docs.microsoft.com/en-us/windows/secur...  windows  security   \n",
       "...                                                  ...      ...       ...   \n",
       "84947  https://docs.microsoft.com/en-us/windows/secur...  windows  security   \n",
       "85154  https://docs.microsoft.com/en-us/windows/secur...  windows  security   \n",
       "96622  https://docs.microsoft.com/en-us/windows/secur...  windows  security   \n",
       "96623  https://docs.microsoft.com/en-us/windows/secur...  windows  security   \n",
       "97431  https://docs.microsoft.com/en-us/windows/secur...  windows  security   \n",
       "\n",
       "                  level4                                             level5  \n",
       "1738   threat-protection               windows-defender-application-control  \n",
       "1759   threat-protection               windows-defender-application-control  \n",
       "1823   threat-protection                                       intelligence  \n",
       "1846   threat-protection                                       intelligence  \n",
       "1847   threat-protection                         windows-defender-antivirus  \n",
       "...                  ...                                                ...  \n",
       "84947  threat-protection                       microsoft-defender-antivirus  \n",
       "85154  threat-protection  security-compliance-toolkit-10#what-is-the-loc...  \n",
       "96622  threat-protection                                   windows-firewall  \n",
       "96623  threat-protection                       microsoft-defender-antivirus  \n",
       "97431  threat-protection                             microsoft-defender-atp  \n",
       "\n",
       "[270 rows x 5 columns]"
      ]
     },
     "execution_count": 13,
     "metadata": {},
     "output_type": "execute_result"
    }
   ],
   "source": [
    "stats_atp = df[df['level4'].str.contains('threat-protection')]\n",
    "print(len(stats_atp))\n",
    "stats_atp"
   ]
  },
  {
   "cell_type": "code",
   "execution_count": 14,
   "metadata": {},
   "outputs": [
    {
     "data": {
      "text/plain": [
       "'https://docs.microsoft.com/en-us/windows/security/threat-protection/intelligence/criteria#potentially-unwanted-application-pua/'"
      ]
     },
     "execution_count": 14,
     "metadata": {},
     "output_type": "execute_result"
    }
   ],
   "source": [
    "df.iloc[1846]['url'] "
   ]
  },
  {
   "cell_type": "markdown",
   "metadata": {},
   "source": [
    "# ======================================================"
   ]
  },
  {
   "cell_type": "markdown",
   "metadata": {},
   "source": [
    "words_remove = ['video']"
   ]
  },
  {
   "cell_type": "code",
   "execution_count": 23,
   "metadata": {},
   "outputs": [
    {
     "data": {
      "text/html": [
       "<div>\n",
       "<style scoped>\n",
       "    .dataframe tbody tr th:only-of-type {\n",
       "        vertical-align: middle;\n",
       "    }\n",
       "\n",
       "    .dataframe tbody tr th {\n",
       "        vertical-align: top;\n",
       "    }\n",
       "\n",
       "    .dataframe thead th {\n",
       "        text-align: right;\n",
       "    }\n",
       "</style>\n",
       "<table border=\"1\" class=\"dataframe\">\n",
       "  <thead>\n",
       "    <tr style=\"text-align: right;\">\n",
       "      <th></th>\n",
       "      <th>url</th>\n",
       "      <th>level2</th>\n",
       "      <th>level3</th>\n",
       "      <th>level4</th>\n",
       "      <th>level5</th>\n",
       "    </tr>\n",
       "  </thead>\n",
       "  <tbody>\n",
       "    <tr>\n",
       "      <th>1655</th>\n",
       "      <td>https://docs.microsoft.com/en-us/office365/Ent...</td>\n",
       "      <td>office365</td>\n",
       "      <td>Enterprise</td>\n",
       "      <td>best-practices-anonymous-sharing</td>\n",
       "      <td>N.A.</td>\n",
       "    </tr>\n",
       "    <tr>\n",
       "      <th>2103</th>\n",
       "      <td>https://docs.microsoft.com/en-us/cloud-app-sec...</td>\n",
       "      <td>cloud-app-security</td>\n",
       "      <td>best-practices</td>\n",
       "      <td>N.A.</td>\n",
       "      <td>N.A.</td>\n",
       "    </tr>\n",
       "    <tr>\n",
       "      <th>2367</th>\n",
       "      <td>https://docs.microsoft.com/en-us/powershell/mo...</td>\n",
       "      <td>powershell</td>\n",
       "      <td>module</td>\n",
       "      <td>bestpractices</td>\n",
       "      <td>N.A.</td>\n",
       "    </tr>\n",
       "    <tr>\n",
       "      <th>3290</th>\n",
       "      <td>https://docs.microsoft.com/en-us/cloud-app-sec...</td>\n",
       "      <td>cloud-app-security</td>\n",
       "      <td>best-practices#discover-classify-label-and-pro...</td>\n",
       "      <td>N.A.</td>\n",
       "      <td>N.A.</td>\n",
       "    </tr>\n",
       "    <tr>\n",
       "      <th>4674</th>\n",
       "      <td>https://docs.microsoft.com/en-us/azure/archite...</td>\n",
       "      <td>azure</td>\n",
       "      <td>architecture</td>\n",
       "      <td>best-practices</td>\n",
       "      <td>monitoring</td>\n",
       "    </tr>\n",
       "    <tr>\n",
       "      <th>...</th>\n",
       "      <td>...</td>\n",
       "      <td>...</td>\n",
       "      <td>...</td>\n",
       "      <td>...</td>\n",
       "      <td>...</td>\n",
       "    </tr>\n",
       "    <tr>\n",
       "      <th>87580</th>\n",
       "      <td>https://docs.microsoft.com/en-us/dotnet/standa...</td>\n",
       "      <td>dotnet</td>\n",
       "      <td>standard</td>\n",
       "      <td>globalization-localization</td>\n",
       "      <td>best-practices-for-developing-world-ready-apps</td>\n",
       "    </tr>\n",
       "    <tr>\n",
       "      <th>88370</th>\n",
       "      <td>https://docs.microsoft.com/en-us/azure/contain...</td>\n",
       "      <td>azure</td>\n",
       "      <td>container-registry</td>\n",
       "      <td>container-registry-best-practices#repository-n...</td>\n",
       "      <td>N.A.</td>\n",
       "    </tr>\n",
       "    <tr>\n",
       "      <th>89712</th>\n",
       "      <td>https://docs.microsoft.com/en-us/windows-hardw...</td>\n",
       "      <td>windows-hardware</td>\n",
       "      <td>drivers</td>\n",
       "      <td>install</td>\n",
       "      <td>dif-selectbestcompatdrv</td>\n",
       "    </tr>\n",
       "    <tr>\n",
       "      <th>98623</th>\n",
       "      <td>https://docs.microsoft.com/en-us/azure/best-pr...</td>\n",
       "      <td>azure</td>\n",
       "      <td>best-practices-monitoring</td>\n",
       "      <td>N.A.</td>\n",
       "      <td>N.A.</td>\n",
       "    </tr>\n",
       "    <tr>\n",
       "      <th>103131</th>\n",
       "      <td>https://docs.microsoft.com/en-us/exchange/mail...</td>\n",
       "      <td>exchange</td>\n",
       "      <td>mail-flow-best-practices</td>\n",
       "      <td>remote-domains</td>\n",
       "      <td>remote-domains</td>\n",
       "    </tr>\n",
       "  </tbody>\n",
       "</table>\n",
       "<p>147 rows × 5 columns</p>\n",
       "</div>"
      ],
      "text/plain": [
       "                                                      url              level2  \\\n",
       "1655    https://docs.microsoft.com/en-us/office365/Ent...           office365   \n",
       "2103    https://docs.microsoft.com/en-us/cloud-app-sec...  cloud-app-security   \n",
       "2367    https://docs.microsoft.com/en-us/powershell/mo...          powershell   \n",
       "3290    https://docs.microsoft.com/en-us/cloud-app-sec...  cloud-app-security   \n",
       "4674    https://docs.microsoft.com/en-us/azure/archite...               azure   \n",
       "...                                                   ...                 ...   \n",
       "87580   https://docs.microsoft.com/en-us/dotnet/standa...              dotnet   \n",
       "88370   https://docs.microsoft.com/en-us/azure/contain...               azure   \n",
       "89712   https://docs.microsoft.com/en-us/windows-hardw...    windows-hardware   \n",
       "98623   https://docs.microsoft.com/en-us/azure/best-pr...               azure   \n",
       "103131  https://docs.microsoft.com/en-us/exchange/mail...            exchange   \n",
       "\n",
       "                                                   level3  \\\n",
       "1655                                           Enterprise   \n",
       "2103                                       best-practices   \n",
       "2367                                               module   \n",
       "3290    best-practices#discover-classify-label-and-pro...   \n",
       "4674                                         architecture   \n",
       "...                                                   ...   \n",
       "87580                                            standard   \n",
       "88370                                  container-registry   \n",
       "89712                                             drivers   \n",
       "98623                           best-practices-monitoring   \n",
       "103131                           mail-flow-best-practices   \n",
       "\n",
       "                                                   level4  \\\n",
       "1655                     best-practices-anonymous-sharing   \n",
       "2103                                                 N.A.   \n",
       "2367                                        bestpractices   \n",
       "3290                                                 N.A.   \n",
       "4674                                       best-practices   \n",
       "...                                                   ...   \n",
       "87580                          globalization-localization   \n",
       "88370   container-registry-best-practices#repository-n...   \n",
       "89712                                             install   \n",
       "98623                                                N.A.   \n",
       "103131                                     remote-domains   \n",
       "\n",
       "                                                level5  \n",
       "1655                                              N.A.  \n",
       "2103                                              N.A.  \n",
       "2367                                              N.A.  \n",
       "3290                                              N.A.  \n",
       "4674                                        monitoring  \n",
       "...                                                ...  \n",
       "87580   best-practices-for-developing-world-ready-apps  \n",
       "88370                                             N.A.  \n",
       "89712                          dif-selectbestcompatdrv  \n",
       "98623                                             N.A.  \n",
       "103131                                  remote-domains  \n",
       "\n",
       "[147 rows x 5 columns]"
      ]
     },
     "execution_count": 23,
     "metadata": {},
     "output_type": "execute_result"
    }
   ],
   "source": [
    "df[df['url'].str.contains('best')]"
   ]
  },
  {
   "cell_type": "code",
   "execution_count": null,
   "metadata": {},
   "outputs": [],
   "source": []
  }
 ],
 "metadata": {
  "kernelspec": {
   "display_name": "Python 3",
   "language": "python",
   "name": "python3"
  },
  "language_info": {
   "codemirror_mode": {
    "name": "ipython",
    "version": 3
   },
   "file_extension": ".py",
   "mimetype": "text/x-python",
   "name": "python",
   "nbconvert_exporter": "python",
   "pygments_lexer": "ipython3",
   "version": "3.9.10"
  }
 },
 "nbformat": 4,
 "nbformat_minor": 2
}
